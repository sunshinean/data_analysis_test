{
 "cells": [
  {
   "cell_type": "code",
   "execution_count": 1,
   "metadata": {},
   "outputs": [],
   "source": [
    "import pandas as pd\n",
    "import numpy as np\n",
    "from datetime import datetime"
   ]
  },
  {
   "cell_type": "code",
   "execution_count": 2,
   "metadata": {},
   "outputs": [],
   "source": [
    "dates = [datetime(2011, 1, 2), datetime(2011, 1, 5),\n",
    "         datetime(2011, 1, 7), datetime(2011, 1, 8), \n",
    "         datetime(2011, 1, 10), datetime(2011, 1, 12)]"
   ]
  },
  {
   "cell_type": "code",
   "execution_count": 3,
   "metadata": {},
   "outputs": [
    {
     "data": {
      "text/plain": [
       "2011-01-02    0.301567\n",
       "2011-01-05   -0.170824\n",
       "2011-01-07   -1.089862\n",
       "2011-01-08    1.912126\n",
       "2011-01-10   -1.307903\n",
       "2011-01-12   -0.919192\n",
       "dtype: float64"
      ]
     },
     "execution_count": 3,
     "metadata": {},
     "output_type": "execute_result"
    }
   ],
   "source": [
    "ts = pd.Series(np.random.randn(6), index=dates)\n",
    "ts"
   ]
  },
  {
   "cell_type": "code",
   "execution_count": 4,
   "metadata": {},
   "outputs": [
    {
     "data": {
      "text/plain": [
       "DatetimeIndex(['2011-01-02', '2011-01-05', '2011-01-07', '2011-01-08',\n",
       "               '2011-01-10', '2011-01-12'],\n",
       "              dtype='datetime64[ns]', freq=None)"
      ]
     },
     "execution_count": 4,
     "metadata": {},
     "output_type": "execute_result"
    }
   ],
   "source": [
    "ts.index"
   ]
  },
  {
   "cell_type": "code",
   "execution_count": 5,
   "metadata": {},
   "outputs": [
    {
     "data": {
      "text/plain": [
       "2011-01-02    0.301567\n",
       "2011-01-07   -1.089862\n",
       "2011-01-10   -1.307903\n",
       "dtype: float64"
      ]
     },
     "execution_count": 5,
     "metadata": {},
     "output_type": "execute_result"
    }
   ],
   "source": [
    "ts[::2]"
   ]
  },
  {
   "cell_type": "code",
   "execution_count": 6,
   "metadata": {},
   "outputs": [
    {
     "data": {
      "text/plain": [
       "2011-01-02    0.603135\n",
       "2011-01-05         NaN\n",
       "2011-01-07   -2.179724\n",
       "2011-01-08         NaN\n",
       "2011-01-10   -2.615806\n",
       "2011-01-12         NaN\n",
       "dtype: float64"
      ]
     },
     "execution_count": 6,
     "metadata": {},
     "output_type": "execute_result"
    }
   ],
   "source": [
    "ts + ts[::2]"
   ]
  },
  {
   "cell_type": "code",
   "execution_count": 7,
   "metadata": {},
   "outputs": [
    {
     "data": {
      "text/plain": [
       "dtype('<M8[ns]')"
      ]
     },
     "execution_count": 7,
     "metadata": {},
     "output_type": "execute_result"
    }
   ],
   "source": [
    "ts.index.dtype"
   ]
  },
  {
   "cell_type": "code",
   "execution_count": 8,
   "metadata": {},
   "outputs": [
    {
     "data": {
      "text/plain": [
       "Timestamp('2011-01-02 00:00:00')"
      ]
     },
     "execution_count": 8,
     "metadata": {},
     "output_type": "execute_result"
    }
   ],
   "source": [
    "stamp = ts.index[0]\n",
    "stamp"
   ]
  },
  {
   "cell_type": "code",
   "execution_count": 9,
   "metadata": {},
   "outputs": [
    {
     "data": {
      "text/plain": [
       "2011-01-02    0.301567\n",
       "2011-01-05   -0.170824\n",
       "2011-01-07   -1.089862\n",
       "2011-01-08    1.912126\n",
       "2011-01-10   -1.307903\n",
       "2011-01-12   -0.919192\n",
       "dtype: float64"
      ]
     },
     "execution_count": 9,
     "metadata": {},
     "output_type": "execute_result"
    }
   ],
   "source": [
    "ts"
   ]
  },
  {
   "cell_type": "code",
   "execution_count": 10,
   "metadata": {},
   "outputs": [],
   "source": [
    "stamp = ts.index[2]"
   ]
  },
  {
   "cell_type": "code",
   "execution_count": 11,
   "metadata": {},
   "outputs": [
    {
     "data": {
      "text/plain": [
       "-1.0898619709117485"
      ]
     },
     "execution_count": 11,
     "metadata": {},
     "output_type": "execute_result"
    }
   ],
   "source": [
    "ts[stamp]"
   ]
  },
  {
   "cell_type": "code",
   "execution_count": 12,
   "metadata": {},
   "outputs": [
    {
     "data": {
      "text/plain": [
       "-1.307902918964249"
      ]
     },
     "execution_count": 12,
     "metadata": {},
     "output_type": "execute_result"
    }
   ],
   "source": [
    "ts['1/10/2011']"
   ]
  },
  {
   "cell_type": "code",
   "execution_count": 13,
   "metadata": {},
   "outputs": [
    {
     "data": {
      "text/plain": [
       "-1.307902918964249"
      ]
     },
     "execution_count": 13,
     "metadata": {},
     "output_type": "execute_result"
    }
   ],
   "source": [
    "ts['20110110']"
   ]
  },
  {
   "cell_type": "code",
   "execution_count": 14,
   "metadata": {},
   "outputs": [
    {
     "data": {
      "text/plain": [
       "2000-01-01    0.997765\n",
       "2000-01-02   -0.946467\n",
       "2000-01-03   -1.191870\n",
       "2000-01-04    0.245000\n",
       "2000-01-05   -1.026980\n",
       "2000-01-06   -0.909567\n",
       "2000-01-07   -0.483515\n",
       "2000-01-08   -0.921996\n",
       "2000-01-09    1.122243\n",
       "2000-01-10    1.143226\n",
       "2000-01-11    0.946145\n",
       "2000-01-12   -0.376071\n",
       "2000-01-13    0.264661\n",
       "2000-01-14    0.084638\n",
       "2000-01-15   -0.015852\n",
       "2000-01-16   -2.176100\n",
       "2000-01-17    0.962607\n",
       "2000-01-18    0.376222\n",
       "2000-01-19    1.132507\n",
       "2000-01-20    0.641738\n",
       "2000-01-21   -1.451436\n",
       "2000-01-22   -1.591490\n",
       "2000-01-23    0.696901\n",
       "2000-01-24   -0.479540\n",
       "2000-01-25   -1.111768\n",
       "2000-01-26   -0.431793\n",
       "2000-01-27    0.346868\n",
       "2000-01-28    1.032547\n",
       "2000-01-29   -2.127898\n",
       "2000-01-30    1.290041\n",
       "                ...   \n",
       "2002-08-28   -0.581743\n",
       "2002-08-29   -0.254234\n",
       "2002-08-30    0.211225\n",
       "2002-08-31    0.559617\n",
       "2002-09-01    0.895233\n",
       "2002-09-02   -1.459935\n",
       "2002-09-03   -0.092797\n",
       "2002-09-04   -0.582724\n",
       "2002-09-05    1.392628\n",
       "2002-09-06   -1.146133\n",
       "2002-09-07    0.026992\n",
       "2002-09-08    0.195148\n",
       "2002-09-09   -1.712392\n",
       "2002-09-10   -1.976533\n",
       "2002-09-11   -1.061420\n",
       "2002-09-12    1.796032\n",
       "2002-09-13    0.694685\n",
       "2002-09-14    0.105715\n",
       "2002-09-15   -0.537292\n",
       "2002-09-16   -0.311817\n",
       "2002-09-17   -0.297715\n",
       "2002-09-18    1.452718\n",
       "2002-09-19    0.196925\n",
       "2002-09-20    0.761741\n",
       "2002-09-21   -0.596767\n",
       "2002-09-22   -0.969765\n",
       "2002-09-23   -0.968409\n",
       "2002-09-24   -0.273422\n",
       "2002-09-25    0.055366\n",
       "2002-09-26    0.766752\n",
       "Freq: D, Length: 1000, dtype: float64"
      ]
     },
     "execution_count": 14,
     "metadata": {},
     "output_type": "execute_result"
    }
   ],
   "source": [
    "longer_ts = pd.Series(np.random.randn(1000),\n",
    "                     index=pd.date_range('1/1/2000',periods=1000))\n",
    "longer_ts"
   ]
  },
  {
   "cell_type": "code",
   "execution_count": 15,
   "metadata": {},
   "outputs": [
    {
     "data": {
      "text/plain": [
       "2001-01-01    0.004541\n",
       "2001-01-02   -1.055410\n",
       "2001-01-03    0.318265\n",
       "2001-01-04    0.942606\n",
       "2001-01-05   -0.602826\n",
       "2001-01-06    0.723373\n",
       "2001-01-07    0.724046\n",
       "2001-01-08   -1.240942\n",
       "2001-01-09    0.315893\n",
       "2001-01-10    0.396973\n",
       "2001-01-11    0.057564\n",
       "2001-01-12   -0.073060\n",
       "2001-01-13    0.477189\n",
       "2001-01-14   -0.362694\n",
       "2001-01-15   -0.030093\n",
       "2001-01-16    0.288181\n",
       "2001-01-17    0.941717\n",
       "2001-01-18   -0.757797\n",
       "2001-01-19   -0.042697\n",
       "2001-01-20   -1.020215\n",
       "2001-01-21   -0.346249\n",
       "2001-01-22   -0.227815\n",
       "2001-01-23    1.416059\n",
       "2001-01-24   -1.515692\n",
       "2001-01-25    0.270123\n",
       "2001-01-26    1.155932\n",
       "2001-01-27   -0.047608\n",
       "2001-01-28   -0.271708\n",
       "2001-01-29   -0.744088\n",
       "2001-01-30   -0.243929\n",
       "                ...   \n",
       "2001-12-02   -0.428855\n",
       "2001-12-03   -0.371095\n",
       "2001-12-04   -0.453488\n",
       "2001-12-05   -2.129355\n",
       "2001-12-06   -0.458974\n",
       "2001-12-07   -0.793685\n",
       "2001-12-08    1.268621\n",
       "2001-12-09   -2.043815\n",
       "2001-12-10    1.129995\n",
       "2001-12-11   -1.786870\n",
       "2001-12-12    1.073093\n",
       "2001-12-13   -1.021342\n",
       "2001-12-14    0.512752\n",
       "2001-12-15   -0.816367\n",
       "2001-12-16    0.233954\n",
       "2001-12-17   -0.019449\n",
       "2001-12-18   -0.932842\n",
       "2001-12-19    1.287416\n",
       "2001-12-20   -2.185692\n",
       "2001-12-21    1.246765\n",
       "2001-12-22   -1.048417\n",
       "2001-12-23   -0.848030\n",
       "2001-12-24   -1.464560\n",
       "2001-12-25   -0.507407\n",
       "2001-12-26    0.052414\n",
       "2001-12-27    0.808458\n",
       "2001-12-28    0.047981\n",
       "2001-12-29    1.990044\n",
       "2001-12-30    0.308939\n",
       "2001-12-31    0.080107\n",
       "Freq: D, Length: 365, dtype: float64"
      ]
     },
     "execution_count": 15,
     "metadata": {},
     "output_type": "execute_result"
    }
   ],
   "source": [
    "longer_ts['2001']"
   ]
  },
  {
   "cell_type": "code",
   "execution_count": 16,
   "metadata": {},
   "outputs": [
    {
     "data": {
      "text/plain": [
       "2001-05-01    0.604928\n",
       "2001-05-02   -1.802713\n",
       "2001-05-03    0.070863\n",
       "2001-05-04   -1.178780\n",
       "2001-05-05   -0.879057\n",
       "2001-05-06    0.836078\n",
       "2001-05-07   -0.281281\n",
       "2001-05-08    0.787124\n",
       "2001-05-09    1.597522\n",
       "2001-05-10    0.079372\n",
       "2001-05-11   -0.008551\n",
       "2001-05-12   -0.762142\n",
       "2001-05-13    1.166306\n",
       "2001-05-14   -1.733973\n",
       "2001-05-15   -1.989838\n",
       "2001-05-16    1.069870\n",
       "2001-05-17   -0.919797\n",
       "2001-05-18   -1.608722\n",
       "2001-05-19    1.347957\n",
       "2001-05-20   -1.110016\n",
       "2001-05-21    1.306142\n",
       "2001-05-22   -1.341843\n",
       "2001-05-23   -0.534561\n",
       "2001-05-24   -0.175564\n",
       "2001-05-25    0.958557\n",
       "2001-05-26   -0.312257\n",
       "2001-05-27   -0.262705\n",
       "2001-05-28   -0.195936\n",
       "2001-05-29   -0.035514\n",
       "2001-05-30   -0.134462\n",
       "2001-05-31    0.235781\n",
       "Freq: D, dtype: float64"
      ]
     },
     "execution_count": 16,
     "metadata": {},
     "output_type": "execute_result"
    }
   ],
   "source": [
    "longer_ts['2001-05']"
   ]
  },
  {
   "cell_type": "code",
   "execution_count": 17,
   "metadata": {},
   "outputs": [
    {
     "data": {
      "text/plain": [
       "-1.0898619709117485"
      ]
     },
     "execution_count": 17,
     "metadata": {},
     "output_type": "execute_result"
    }
   ],
   "source": [
    "ts[datetime(2011,1,7)]"
   ]
  },
  {
   "cell_type": "code",
   "execution_count": 18,
   "metadata": {},
   "outputs": [
    {
     "data": {
      "text/plain": [
       "2011-01-02    0.301567\n",
       "2011-01-05   -0.170824\n",
       "2011-01-07   -1.089862\n",
       "2011-01-08    1.912126\n",
       "2011-01-10   -1.307903\n",
       "2011-01-12   -0.919192\n",
       "dtype: float64"
      ]
     },
     "execution_count": 18,
     "metadata": {},
     "output_type": "execute_result"
    }
   ],
   "source": [
    "ts\n"
   ]
  },
  {
   "cell_type": "code",
   "execution_count": 19,
   "metadata": {},
   "outputs": [
    {
     "data": {
      "text/plain": [
       "2011-01-07   -1.089862\n",
       "2011-01-08    1.912126\n",
       "2011-01-10   -1.307903\n",
       "dtype: float64"
      ]
     },
     "execution_count": 19,
     "metadata": {},
     "output_type": "execute_result"
    }
   ],
   "source": [
    "ts['1/6/2011':'1/11/2011']"
   ]
  },
  {
   "cell_type": "code",
   "execution_count": 20,
   "metadata": {},
   "outputs": [
    {
     "data": {
      "text/plain": [
       "2011-01-02    0.301567\n",
       "2011-01-05   -0.170824\n",
       "2011-01-07   -1.089862\n",
       "2011-01-08    1.912126\n",
       "dtype: float64"
      ]
     },
     "execution_count": 20,
     "metadata": {},
     "output_type": "execute_result"
    }
   ],
   "source": [
    "ts.truncate(after='1/9/2011')"
   ]
  },
  {
   "cell_type": "code",
   "execution_count": 22,
   "metadata": {},
   "outputs": [],
   "source": [
    "dates = pd.date_range('1/1/2000', periods=100, freq='W-WED')"
   ]
  },
  {
   "cell_type": "code",
   "execution_count": 23,
   "metadata": {},
   "outputs": [],
   "source": [
    "long_df = pd.DataFrame(np.random.randn(100, 4),\n",
    "                       index=dates,\n",
    "                       columns=['Colorado', 'Texas',\n",
    "                                'New York', 'Ohio'])"
   ]
  },
  {
   "cell_type": "code",
   "execution_count": 24,
   "metadata": {},
   "outputs": [
    {
     "data": {
      "text/html": [
       "<div>\n",
       "<style scoped>\n",
       "    .dataframe tbody tr th:only-of-type {\n",
       "        vertical-align: middle;\n",
       "    }\n",
       "\n",
       "    .dataframe tbody tr th {\n",
       "        vertical-align: top;\n",
       "    }\n",
       "\n",
       "    .dataframe thead th {\n",
       "        text-align: right;\n",
       "    }\n",
       "</style>\n",
       "<table border=\"1\" class=\"dataframe\">\n",
       "  <thead>\n",
       "    <tr style=\"text-align: right;\">\n",
       "      <th></th>\n",
       "      <th>Colorado</th>\n",
       "      <th>Texas</th>\n",
       "      <th>New York</th>\n",
       "      <th>Ohio</th>\n",
       "    </tr>\n",
       "  </thead>\n",
       "  <tbody>\n",
       "    <tr>\n",
       "      <th>2001-05-02</th>\n",
       "      <td>0.574989</td>\n",
       "      <td>-0.253860</td>\n",
       "      <td>0.966280</td>\n",
       "      <td>0.591986</td>\n",
       "    </tr>\n",
       "    <tr>\n",
       "      <th>2001-05-09</th>\n",
       "      <td>1.629587</td>\n",
       "      <td>0.171641</td>\n",
       "      <td>1.529134</td>\n",
       "      <td>1.188103</td>\n",
       "    </tr>\n",
       "    <tr>\n",
       "      <th>2001-05-16</th>\n",
       "      <td>-2.081829</td>\n",
       "      <td>0.814551</td>\n",
       "      <td>1.425032</td>\n",
       "      <td>-0.352711</td>\n",
       "    </tr>\n",
       "    <tr>\n",
       "      <th>2001-05-23</th>\n",
       "      <td>-0.032933</td>\n",
       "      <td>-0.969021</td>\n",
       "      <td>0.689476</td>\n",
       "      <td>0.807127</td>\n",
       "    </tr>\n",
       "    <tr>\n",
       "      <th>2001-05-30</th>\n",
       "      <td>-0.987567</td>\n",
       "      <td>0.761530</td>\n",
       "      <td>-1.214808</td>\n",
       "      <td>-0.545598</td>\n",
       "    </tr>\n",
       "  </tbody>\n",
       "</table>\n",
       "</div>"
      ],
      "text/plain": [
       "            Colorado     Texas  New York      Ohio\n",
       "2001-05-02  0.574989 -0.253860  0.966280  0.591986\n",
       "2001-05-09  1.629587  0.171641  1.529134  1.188103\n",
       "2001-05-16 -2.081829  0.814551  1.425032 -0.352711\n",
       "2001-05-23 -0.032933 -0.969021  0.689476  0.807127\n",
       "2001-05-30 -0.987567  0.761530 -1.214808 -0.545598"
      ]
     },
     "execution_count": 24,
     "metadata": {},
     "output_type": "execute_result"
    }
   ],
   "source": [
    "long_df.loc['5-2001']"
   ]
  },
  {
   "cell_type": "code",
   "execution_count": 25,
   "metadata": {},
   "outputs": [],
   "source": [
    "dates = pd.DatetimeIndex(['1/1/2000', '1/2/2000', '1/2/2000', \n",
    "                          '1/2/2000', '1/3/2000'])"
   ]
  },
  {
   "cell_type": "code",
   "execution_count": 26,
   "metadata": {},
   "outputs": [],
   "source": [
    "dup_ts = pd.Series(np.arange(5), index=dates)"
   ]
  },
  {
   "cell_type": "code",
   "execution_count": 27,
   "metadata": {},
   "outputs": [
    {
     "data": {
      "text/plain": [
       "2000-01-01    0\n",
       "2000-01-02    1\n",
       "2000-01-02    2\n",
       "2000-01-02    3\n",
       "2000-01-03    4\n",
       "dtype: int32"
      ]
     },
     "execution_count": 27,
     "metadata": {},
     "output_type": "execute_result"
    }
   ],
   "source": [
    "dup_ts"
   ]
  },
  {
   "cell_type": "code",
   "execution_count": 28,
   "metadata": {},
   "outputs": [
    {
     "data": {
      "text/plain": [
       "False"
      ]
     },
     "execution_count": 28,
     "metadata": {},
     "output_type": "execute_result"
    }
   ],
   "source": [
    "dup_ts.index.is_unique"
   ]
  },
  {
   "cell_type": "code",
   "execution_count": 29,
   "metadata": {},
   "outputs": [
    {
     "data": {
      "text/plain": [
       "4"
      ]
     },
     "execution_count": 29,
     "metadata": {},
     "output_type": "execute_result"
    }
   ],
   "source": [
    "dup_ts['1/3/2000']"
   ]
  },
  {
   "cell_type": "code",
   "execution_count": 30,
   "metadata": {},
   "outputs": [
    {
     "data": {
      "text/plain": [
       "2000-01-02    1\n",
       "2000-01-02    2\n",
       "2000-01-02    3\n",
       "dtype: int32"
      ]
     },
     "execution_count": 30,
     "metadata": {},
     "output_type": "execute_result"
    }
   ],
   "source": [
    "dup_ts['1/2/2000']"
   ]
  },
  {
   "cell_type": "code",
   "execution_count": 31,
   "metadata": {},
   "outputs": [],
   "source": [
    "grouped = dup_ts.groupby(level=0)"
   ]
  },
  {
   "cell_type": "code",
   "execution_count": 32,
   "metadata": {},
   "outputs": [
    {
     "data": {
      "text/plain": [
       "2000-01-01    0\n",
       "2000-01-02    2\n",
       "2000-01-03    4\n",
       "dtype: int32"
      ]
     },
     "execution_count": 32,
     "metadata": {},
     "output_type": "execute_result"
    }
   ],
   "source": [
    "grouped.mean()"
   ]
  },
  {
   "cell_type": "code",
   "execution_count": 33,
   "metadata": {},
   "outputs": [
    {
     "data": {
      "text/plain": [
       "2000-01-01    1\n",
       "2000-01-02    3\n",
       "2000-01-03    1\n",
       "dtype: int64"
      ]
     },
     "execution_count": 33,
     "metadata": {},
     "output_type": "execute_result"
    }
   ],
   "source": [
    "grouped.count()"
   ]
  },
  {
   "cell_type": "code",
   "execution_count": null,
   "metadata": {},
   "outputs": [],
   "source": []
  }
 ],
 "metadata": {
  "kernelspec": {
   "display_name": "Python 3",
   "language": "python",
   "name": "python3"
  },
  "language_info": {
   "codemirror_mode": {
    "name": "ipython",
    "version": 3
   },
   "file_extension": ".py",
   "mimetype": "text/x-python",
   "name": "python",
   "nbconvert_exporter": "python",
   "pygments_lexer": "ipython3",
   "version": "3.6.5"
  }
 },
 "nbformat": 4,
 "nbformat_minor": 2
}
